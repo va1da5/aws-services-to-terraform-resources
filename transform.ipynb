{
 "cells": [
  {
   "cell_type": "code",
   "execution_count": 1,
   "id": "747b754d",
   "metadata": {},
   "outputs": [],
   "source": [
    "from typing import Mapping, List, Any\n",
    "\n",
    "import json\n",
    "import re\n",
    "\n",
    "from difflib import SequenceMatcher\n",
    "from collections import defaultdict"
   ]
  },
  {
   "cell_type": "markdown",
   "id": "6e5b3f28",
   "metadata": {},
   "source": [
    "# Analyze Gathered Data"
   ]
  },
  {
   "cell_type": "markdown",
   "id": "e72b3f11",
   "metadata": {},
   "source": [
    "## Load Data"
   ]
  },
  {
   "cell_type": "code",
   "execution_count": 2,
   "id": "6b46847c",
   "metadata": {},
   "outputs": [],
   "source": [
    "def load(filename: str) -> Mapping[Any, Any]:\n",
    "    with open(filename, \"r\") as infile:\n",
    "        return json.loads(infile.read())\n",
    "    \n",
    "def dump(filename: str, data: Any):\n",
    "    with open(filename, \"w\") as outfile:\n",
    "        outfile.write(json.dumps(data, indent=2))"
   ]
  },
  {
   "cell_type": "code",
   "execution_count": 3,
   "id": "d0376245",
   "metadata": {},
   "outputs": [],
   "source": [
    "aws_tf_provider_docs = load(\"dumps/aws_terraform_provider_docs.json\")"
   ]
  },
  {
   "cell_type": "code",
   "execution_count": 4,
   "id": "78aeef90",
   "metadata": {},
   "outputs": [],
   "source": [
    "aws_actions_mapping = load(\"dumps/aws_actions_name_to_prefix.json\")"
   ]
  },
  {
   "cell_type": "markdown",
   "id": "81a84c07",
   "metadata": {},
   "source": [
    "## Terraform Provider Mapping"
   ]
  },
  {
   "cell_type": "code",
   "execution_count": 6,
   "id": "33c2ad41",
   "metadata": {},
   "outputs": [
    {
     "data": {
      "text/plain": [
       "146"
      ]
     },
     "execution_count": 6,
     "metadata": {},
     "output_type": "execute_result"
    }
   ],
   "source": [
    "tf_mapping = defaultdict(list)\n",
    "\n",
    "for item in aws_tf_provider_docs[\"included\"]:\n",
    "    attr = item[\"attributes\"]\n",
    "    \n",
    "    if not attr[\"category\"] == \"resources\":\n",
    "        continue\n",
    "    \n",
    "    tf_mapping[attr[\"subcategory\"]].append(\"aws_\" + attr[\"title\"])\n",
    "    \n",
    "len(tf_mapping.keys())"
   ]
  },
  {
   "cell_type": "markdown",
   "id": "d82524ad",
   "metadata": {},
   "source": [
    "## Match Automatically"
   ]
  },
  {
   "cell_type": "code",
   "execution_count": 9,
   "id": "3e91ad81",
   "metadata": {},
   "outputs": [],
   "source": [
    "replace_patterns = [\n",
    "    (\"DocumentDB\", \"*\"*100), # skip\n",
    "    (\"Elasticsearch\", \"Amazon OpenSearch Service (successor to Amazon Elasticsearch Service)\"),\n",
    "    (\"^(:?VPC|EC2)$\", 'Amazon EC2'),\n",
    "    (\"SSO Admin\", \"AWS SSO\"),\n",
    "    (\"ACM PCA\", \"AWS Certificate Manager Private Certificate Authority\"),\n",
    "    (\"File System \\(FSx\\)\", \"Amazon FSx\"),\n",
    "    (\"EventBridge \\(CloudWatch Events\\)\", \"Amazon EventBridge\"),\n",
    "    (\"Service Discovery\",\"AWS Cloud Map\"),\n",
    "    (\"^EFS$\", \"Amazon Elastic File System\"),\n",
    "    (\"^(:?S3 Control|S3 Outposts)$\", \"Amazon S3 on Outposts\"),\n",
    "    (\"Autoscaling Plans\", \"AWS Auto Scaling\"),\n",
    "    (\"^Autoscaling$\", \"Amazon EC2 Auto Scaling\"),\n",
    "    (\"Quantum Ledger Database \\(QLDB\\)\", \"Amazon QLDB\")\n",
    "]\n",
    "\n",
    "# add automatic mapping of three leters services\n",
    "\n",
    "for name, prefix in aws_actions_mapping.items():\n",
    "    if len(prefix) == 3:\n",
    "        replace_patterns.append(\n",
    "            (f\"^{prefix.upper()}$\", name)\n",
    "        )\n",
    "\n",
    "def match_cf(tf_service_name:str) -> str:\n",
    "    output = tf_service_name\n",
    "    for search, replace in replace_patterns:\n",
    "        output = re.sub(search, replace, output)\n",
    "    return output\n",
    "\n",
    "\n",
    "def find_match(search:str, targets: List[str]):\n",
    "    best_match: str = \"\"\n",
    "    best_score: float = 0\n",
    "    \n",
    "    for target in targets:\n",
    "        score = SequenceMatcher(None, search, target).ratio()\n",
    "        if score > best_score:\n",
    "            best_score = score\n",
    "            best_match = target\n",
    "    return best_score, best_match"
   ]
  },
  {
   "cell_type": "code",
   "execution_count": 12,
   "id": "b3454c73",
   "metadata": {
    "scrolled": true
   },
   "outputs": [
    {
     "data": {
      "text/plain": [
       "dict_keys(['SSM', 'Timestream Write', 'VPC', 'Config', 'Gamelift', 'Image Builder', 'EC2', 'Pinpoint', 'AppMesh', 'CloudFront', 'ElastiCache', 'IAM', 'MQ', 'SSO Admin', 'Connect', 'WAF', 'Route53 Recovery Readiness', 'CodeCommit', 'Glue', 'Route53', 'API Gateway (REST APIs)', 'Database Migration Service (DMS)', 'KMS', 'RAM', 'S3 Control', 'Sagemaker', 'Security Hub', 'Service Discovery', 'SES', 'Lambda', 'Lex', 'Service Catalog', 'File System (FSx)', 'EFS', 'Elastic Load Balancing v2 (ALB/NLB)', 'MemoryDB', 'Step Function (SFN)', 'RDS', 'EventBridge (CloudWatch Events)', 'Route53 Resolver', 'Chime', 'CloudSearch', 'OpsWorks', 'Backup', 'DataPipeline', 'Neptune', 'Athena', 'Cognito', 'Elastic Map Reduce (EMR)', 'ECS', 'DataSync', 'Direct Connect', 'S3', 'Device Farm', 'CodePipeline', 'Global Accelerator', 'AppStream', 'Cost and Usage Report', 'API Gateway v2 (WebSocket and HTTP APIs)', 'CloudWatch', 'Kinesis Firehose', 'Storage Gateway', 'Organizations', 'Kinesis', 'Redshift', 'Resource Groups', 'Glacier', 'Lightsail', 'ECR', 'WAF Regional', 'CodeBuild', 'Shield', 'AppConfig', 'Cloud Control API', 'Autoscaling', 'Lake Formation', 'Kafka Connect (MSK Connect)', 'Managed Streaming for Kafka (MSK)', 'Elastic Beanstalk', 'EKS', 'CloudFormation', 'GuardDuty', 'IoT', 'Autoscaling Plans', 'MediaPackage', 'AppSync', 'XRay', 'CodeStar Notifications', 'MediaStore', 'Batch', 'Macie', 'WorkSpaces', 'App Runner', 'Secrets Manager', 'Application Autoscaling', 'Budgets', 'QuickSight', 'WorkLink', 'Elasticsearch', 'License Manager', 'Kinesis Data Analytics (SQL Applications)', 'Directory Service', 'CodeDeploy', 'Inspector', 'ACM', 'CloudTrail', 'Network Firewall', 'CloudHSM v2', 'SNS', 'Amplify Console', 'DynamoDB', 'SQS', 'Route53 Recovery Control Config', 'Amazon Managed Service for Prometheus (AMP)', 'WAFv2', 'Managed Workflows for Apache Airflow (MWAA)', 'Elastic Load Balancing (ELB Classic)', 'Cloud9', 'EventBridge Schemas', 'Signer', 'ACM PCA', 'DynamoDB Accelerator (DAX)', 'Account', 'Quantum Ledger Database (QLDB)', 'Grafana', 'S3 Outposts', 'Kinesis Video', 'Data Exchange', 'Detective', 'CodeStar Connections', 'Transfer', 'Synthetics', 'SimpleDB', 'Macie Classic', 'Serverless Application Repository', 'CodeArtifact', 'Kinesis Data Analytics v2 (SQL and Flink Applications)', 'Firewall Manager (FMS)', 'Route53 Domains', 'Elastic Transcoder', 'SWF', 'Service Quotas', 'Data Lifecycle Manager (DLM)', 'Access Analyzer', 'MediaConvert'])"
      ]
     },
     "execution_count": 12,
     "metadata": {},
     "output_type": "execute_result"
    }
   ],
   "source": [
    "tf_to_services_mapping = {}\n",
    "\n",
    "aws_actions = list(aws_actions_mapping.keys())\n",
    "\n",
    "for tf_service in tf_mapping.keys():\n",
    "    score, match = find_match(match_cf(tf_service), aws_actions)\n",
    "    if score > 0.05:\n",
    "        tf_to_services_mapping[tf_service] = match\n",
    "\n",
    "tf_to_services_mapping.keys()"
   ]
  },
  {
   "cell_type": "markdown",
   "id": "af649554",
   "metadata": {},
   "source": [
    "## AWS Service Prefix to Terraform Resources"
   ]
  },
  {
   "cell_type": "code",
   "execution_count": 16,
   "id": "99404278",
   "metadata": {
    "scrolled": true
   },
   "outputs": [
    {
     "name": "stdout",
     "output_type": "stream",
     "text": [
      "Missing TF category: DocumentDB\n"
     ]
    },
    {
     "data": {
      "text/plain": [
       "dict_keys(['ssm', 'timestream', 'ec2', 'config', 'gamelift', 'imagebuilder', 'mobiletargeting', 'appmesh', 'cloudfront', 'elasticache', 'iam', 'mq', 'sso', 'connect', 'waf', 'route53-recovery-readiness', 'codecommit', 'glue', 'route53', 'execute-api', 'dms', 'kms', 'ram', 's3-outposts', 'sagemaker', 'securityhub', 'servicediscovery', 'ses', 'lambda', 'lex', 'servicecatalog', 'fsx', 'elasticfilesystem', 'elasticloadbalancing', 'memorydb', 'states', 'rds', 'events', 'route53resolver', 'chime', 'cloudsearch', 'opsworks', 'backup', 'datapipeline', 'neptune-db', 'athena', 'cognito-sync', 'elasticmapreduce', 'ecs', 'datasync', 'directconnect', 's3', 'devicefarm', 'codepipeline', 'globalaccelerator', 'appstream', 'cur', 'apigateway', 'cloudwatch', 'firehose', 'storagegateway', 'organizations', 'kinesis', 'redshift', 'resource-groups', 'glacier', 'lightsail', 'ecr', 'waf-regional', 'codebuild', 'shield', 'appconfig', 'cloudformation', 'autoscaling', 'lakeformation', 'awsconnector', 'kafkaconnect', 'elasticbeanstalk', 'eks', 'guardduty', 'iot', 'autoscaling-plans', 'mediapackage', 'appsync', 'xray', 'codestar-notifications', 'mediastore', 'batch', 'macie2', 'workspaces', 'apprunner', 'secretsmanager', 'application-autoscaling', 'budgets', 'quicksight', 'worklink', 'es', 'license-manager', 'kinesisanalytics', 'ds', 'codedeploy', 'inspector', 'acm', 'cloudtrail', 'network-firewall', 'cloudhsm', 'sns', 'amplifybackend', 'dynamodb', 'sqs', 'route53-recovery-control-config', 'aps', 'wafv2', 'airflow', 'cloud9', 'schemas', 'signer', 'acm-pca', 'dax', 'account', 'qldb', 'grafana', 'kinesisvideo', 'dataexchange', 'detective', 'codestar-connections', 'transfer', 'synthetics', 'sdb', 'macie', 'serverlessrepo', 'codeartifact', 'fms', 'route53domains', 'elastictranscoder', 'swf', 'servicequotas', 'dlm', 'access-analyzer', 'mediaconvert'])"
      ]
     },
     "execution_count": 16,
     "metadata": {},
     "output_type": "execute_result"
    }
   ],
   "source": [
    "aws_service_prefix_to_tf_resources = defaultdict(list)\n",
    "\n",
    "for tf_category, resources in tf_mapping.items():\n",
    "    try:\n",
    "        aws_service_name = tf_to_services_mapping[tf_category]\n",
    "        aws_service_prefix = aws_actions_mapping[aws_service_name]\n",
    "        aws_service_prefix_to_tf_resources[aws_service_prefix].extend(resources)\n",
    "    except KeyError:\n",
    "        print(f\"Missing TF category: {tf_category}\")\n",
    "\n",
    "aws_service_prefix_to_tf_resources.keys()"
   ]
  },
  {
   "cell_type": "code",
   "execution_count": 15,
   "id": "c5b5d71b",
   "metadata": {},
   "outputs": [],
   "source": [
    "dump(\"dumps/aws_action_to_tf_resource.json\", aws_service_prefix_to_tf_resources)"
   ]
  }
 ],
 "metadata": {
  "interpreter": {
   "hash": "b9314fe6e197de5b2f875dea30a904c9d690def3461558c9e568c1d05ada7329"
  },
  "kernelspec": {
   "display_name": "Python 3.8.2 64-bit ('.env': venv)",
   "language": "python",
   "name": "python3"
  },
  "language_info": {
   "codemirror_mode": {
    "name": "ipython",
    "version": 3
   },
   "file_extension": ".py",
   "mimetype": "text/x-python",
   "name": "python",
   "nbconvert_exporter": "python",
   "pygments_lexer": "ipython3",
   "version": "3.10.2"
  }
 },
 "nbformat": 4,
 "nbformat_minor": 5
}
